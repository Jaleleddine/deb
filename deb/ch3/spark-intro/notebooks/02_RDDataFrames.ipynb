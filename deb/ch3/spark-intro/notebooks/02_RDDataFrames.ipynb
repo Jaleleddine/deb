{
 "cells": [
  {
   "cell_type": "markdown",
   "metadata": {},
   "source": [
    "# DataFrames as RDD\n",
    "in chapter 1 we learned about Pandas DataFrames and how great they are to work with. Let's see how we can make similar objects with Spark."
   ]
  },
  {
   "cell_type": "markdown",
   "metadata": {},
   "source": [
    "## Spark SQL\n",
    "Talk a little about the differences with this Spark session to set it up. Then talk about read.csv() and compare to Pandas readcsv(). Talk about how the returned object is an RDD but can be interacted with in a manner similar to a data frame"
   ]
  },
  {
   "cell_type": "code",
   "execution_count": 1,
   "metadata": {},
   "outputs": [],
   "source": [
    "import pyspark\n",
    "sparkql = pyspark.sql.SparkSession.builder.master('local').appName('flights').getOrCreate()\n",
    "flight_file = '../data/flights.csv'\n",
    "flight_df = sparkql.read.csv(flight_file)"
   ]
  },
  {
   "cell_type": "markdown",
   "metadata": {},
   "source": [
    "## DataFrame operation with an RDD\n",
    "Basic schema stuff, relate back to Pandas.\n",
    "As we import specific pyspark.sql functions like col, we can explain how they work. I'll fill those out as we go over the topics bellow.\n",
    "### Change column data type\n",
    "data type is infered on read (check if this is true), but can be set! Show int -> float or similar\n",
    "### Drop Columns\n",
    "Deleted!\n",
    "### Add column/rename column\n",
    "my good friend .withColumn() covers both of these! Add column will be basic copy then basic computed function per row (if dest = origin, for example)\n",
    "### Selection\n",
    "How to choose columns (relates to the above sectoins). How to do WHERE type operations.\n",
    "### Aggregation\n",
    "UserDefinedFunctions/Lamba functi\n",
    "Count arrivals per airport. Then arrivals per airline per airport."
   ]
  },
  {
   "cell_type": "code",
   "execution_count": null,
   "metadata": {},
   "outputs": [],
   "source": []
  }
 ],
 "metadata": {
  "kernelspec": {
   "display_name": "Python 3",
   "language": "python",
   "name": "python3"
  },
  "language_info": {
   "codemirror_mode": {
    "name": "ipython",
    "version": 3
   },
   "file_extension": ".py",
   "mimetype": "text/x-python",
   "name": "python",
   "nbconvert_exporter": "python",
   "pygments_lexer": "ipython3",
   "version": "3.8.5"
  }
 },
 "nbformat": 4,
 "nbformat_minor": 4
}
