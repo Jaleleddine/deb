{
 "cells": [
  {
   "cell_type": "markdown",
   "metadata": {},
   "source": [
    "# Intro to Spark #\n",
    "## What is Spark?\n",
    "Basic info about Apache Spark\n",
    "## SparkContext: how you interact with your data\n",
    "(explain enough so the following cell makes sense)"
   ]
  },
  {
   "cell_type": "code",
   "execution_count": 1,
   "metadata": {},
   "outputs": [],
   "source": [
    "import pyspark\n",
    "sc = pyspark.SparkContext('local[*]')"
   ]
  },
  {
   "cell_type": "markdown",
   "metadata": {},
   "source": [
    "## Resilient Distributed Datasets (RDD)\n",
    "Now that we can interact with our data using a SparkSession/context, what happens to that data? We put it in RDDs!"
   ]
  },
  {
   "cell_type": "code",
   "execution_count": 2,
   "metadata": {},
   "outputs": [
    {
     "name": "stdout",
     "output_type": "stream",
     "text": [
      "We have 12716 flights!\n",
      "Of these flights, 270 involved PDX\n"
     ]
    }
   ],
   "source": [
    "flight_file = '../data/flights.csv'\n",
    "txt = sc.textFile(flight_file)\n",
    "print(\"We have {} flights!\".format(txt.count()))\n",
    "\n",
    "python_lines = txt.filter(lambda line: 'pdx' in line.lower())\n",
    "print(\"Of these flights, {} involved PDX\".format(python_lines.count()))"
   ]
  },
  {
   "cell_type": "code",
   "execution_count": null,
   "metadata": {},
   "outputs": [],
   "source": []
  }
 ],
 "metadata": {
  "kernelspec": {
   "display_name": "Python 3",
   "language": "python",
   "name": "python3"
  },
  "language_info": {
   "codemirror_mode": {
    "name": "ipython",
    "version": 3
   },
   "file_extension": ".py",
   "mimetype": "text/x-python",
   "name": "python",
   "nbconvert_exporter": "python",
   "pygments_lexer": "ipython3",
   "version": "3.8.5"
  }
 },
 "nbformat": 4,
 "nbformat_minor": 4
}
